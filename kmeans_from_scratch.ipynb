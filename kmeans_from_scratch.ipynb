{
  "nbformat": 4,
  "nbformat_minor": 0,
  "metadata": {
    "colab": {
      "provenance": [],
      "authorship_tag": "ABX9TyND926yVmAuA6N/n7vMxpR0",
      "include_colab_link": true
    },
    "kernelspec": {
      "name": "python3",
      "display_name": "Python 3"
    },
    "language_info": {
      "name": "python"
    }
  },
  "cells": [
    {
      "cell_type": "markdown",
      "metadata": {
        "id": "view-in-github",
        "colab_type": "text"
      },
      "source": [
        "<a href=\"https://colab.research.google.com/github/Souravkumar2434/Machine_learning/blob/main/kmeans_from_scratch.ipynb\" target=\"_parent\"><img src=\"https://colab.research.google.com/assets/colab-badge.svg\" alt=\"Open In Colab\"/></a>"
      ]
    },
    {
      "cell_type": "code",
      "execution_count": 1,
      "metadata": {
        "id": "F7y4NPlkIOmZ"
      },
      "outputs": [],
      "source": [
        "from sklearn.datasets import make_blobs\n",
        "import numpy as np\n",
        "import matplotlib.pyplot as plt"
      ]
    },
    {
      "cell_type": "code",
      "source": [
        "centroids = [(-5, -5), (5, 5)]\n",
        "cluster_std = [1, 1]\n",
        "\n",
        "X, y = make_blobs(n_samples = 100, n_features = 2, cluster_std = cluster_std, centers = centroids, random_state = 22)"
      ],
      "metadata": {
        "id": "dLD-AVZpIiOg"
      },
      "execution_count": 2,
      "outputs": []
    },
    {
      "cell_type": "code",
      "source": [
        "X.shape"
      ],
      "metadata": {
        "colab": {
          "base_uri": "https://localhost:8080/"
        },
        "id": "h5cdO0HtI9zZ",
        "outputId": "babaadb6-8dad-4f8c-d6ee-8ba2b1a60662"
      },
      "execution_count": 3,
      "outputs": [
        {
          "output_type": "execute_result",
          "data": {
            "text/plain": [
              "(100, 2)"
            ]
          },
          "metadata": {},
          "execution_count": 3
        }
      ]
    },
    {
      "cell_type": "code",
      "source": [
        "X[:5]"
      ],
      "metadata": {
        "colab": {
          "base_uri": "https://localhost:8080/"
        },
        "id": "zB7lMBIAJHf1",
        "outputId": "8a993ff2-386e-4703-e09a-fbaf162fe326"
      },
      "execution_count": 4,
      "outputs": [
        {
          "output_type": "execute_result",
          "data": {
            "text/plain": [
              "array([[-5.64607361, -4.662675  ],\n",
              "       [-4.40507155, -5.63890807],\n",
              "       [ 4.04052621,  5.32001965],\n",
              "       [-6.37605696, -5.27155468],\n",
              "       [-6.17940257, -5.54529895]])"
            ]
          },
          "metadata": {},
          "execution_count": 4
        }
      ]
    },
    {
      "cell_type": "code",
      "source": [
        "plt.scatter(X[:,0], X[:,1],c = y)"
      ],
      "metadata": {
        "colab": {
          "base_uri": "https://localhost:8080/",
          "height": 447
        },
        "id": "PMYbB3AWJKeL",
        "outputId": "8f672bec-5dfb-4b3f-fc39-bcbbbcbd02f9"
      },
      "execution_count": 5,
      "outputs": [
        {
          "output_type": "execute_result",
          "data": {
            "text/plain": [
              "<matplotlib.collections.PathCollection at 0x7ebf11cf02d0>"
            ]
          },
          "metadata": {},
          "execution_count": 5
        },
        {
          "output_type": "display_data",
          "data": {
            "text/plain": [
              "<Figure size 640x480 with 1 Axes>"
            ],
            "image/png": "[encoded data removed]"
          },
          "metadata": {}
        }
      ]
    },
    {
      "cell_type": "code",
      "source": [
        "\n"
      ],
      "metadata": {
        "id": "xNTfqHZnMAOV"
      },
      "execution_count": null,
      "outputs": []
    },
    {
      "cell_type": "code",
      "source": [],
      "metadata": {
        "id": "xdWSfunMKGU9"
      },
      "execution_count": 23,
      "outputs": []
    },
    {
      "cell_type": "code",
      "source": [
        "class KMeans:\n",
        "  def __init__(self, n_clusters = 2, max_iter = 100):\n",
        "    self.n_clusters = n_clusters\n",
        "    self.max_iter = max_iter\n",
        "    self.centroids = None\n",
        "\n",
        "  def fit_predict(self, X):\n",
        "    self.centroids = np.random.sample((self.n_clusters, X.shape[1]))\n",
        "    for i in range(self.max_iter):\n",
        "      cluster_group = self._assign_cluster(X)\n",
        "      old_centroids = self.centroids\n",
        "      print(f\"old_centroids: {old_centroids}\")\n",
        "      self.centroids = self._move_centroids(X, cluster_group)\n",
        "      print(f\"new_centroids: {self.centroids}\")\n",
        "      if np.all(old_centroids == self.centroids):\n",
        "        break\n",
        "    return cluster_group\n",
        "\n",
        "\n",
        "  def _assign_cluster(self, X):\n",
        "    cluster_group = []\n",
        "    distances = []\n",
        "\n",
        "    for row in X:\n",
        "      for centroid in self.centroids:\n",
        "        distances.append(np.sqrt(np.dot(row - centroid, row - centroid)))\n",
        "      minimum = min(distances)\n",
        "      idx = distances.index(minimum)\n",
        "      cluster_group.append(idx)\n",
        "      distances.clear()\n",
        "    return np.array(cluster_group)\n",
        "\n",
        "  def _move_centroids(self, X, cluster_group):\n",
        "    new_centroids = []\n",
        "    cluster_type = np.unique(cluster_group)\n",
        "\n",
        "    for i in cluster_type:\n",
        "      new_centroids.append(X[cluster_group == i].mean(axis = 0))\n",
        "    return np.array(new_centroids)\n"
      ],
      "metadata": {
        "id": "nvAGurHWJR4N"
      },
      "execution_count": 24,
      "outputs": []
    },
    {
      "cell_type": "code",
      "source": [
        "kmeans = KMeans(n_clusters = 2)\n",
        "y_means = kmeans.fit_predict(X)"
      ],
      "metadata": {
        "id": "D84TxzcGKSGu",
        "colab": {
          "base_uri": "https://localhost:8080/"
        },
        "outputId": "095b199e-52dc-4deb-8004-4a921de819a9"
      },
      "execution_count": 28,
      "outputs": [
        {
          "output_type": "stream",
          "name": "stdout",
          "text": [
            "old_centroids: [[0.77722336 0.2253956 ]\n",
            " [0.68639479 0.75762709]]\n",
            "new_centroids: [[-5.01412831 -5.09322249]\n",
            " [ 5.28225592  5.26973181]]\n",
            "old_centroids: [[-5.01412831 -5.09322249]\n",
            " [ 5.28225592  5.26973181]]\n",
            "new_centroids: [[-5.01412831 -5.09322249]\n",
            " [ 5.28225592  5.26973181]]\n"
          ]
        }
      ]
    },
    {
      "cell_type": "code",
      "source": [
        "plt.scatter(X[y_means == 0,0], X[y_means == 0,1], color = 'r')\n",
        "plt.scatter(X[y_means == 1,0], X[y_means == 1,1], color = 'b')"
      ],
      "metadata": {
        "colab": {
          "base_uri": "https://localhost:8080/",
          "height": 447
        },
        "id": "kq_uQv1kIcgI",
        "outputId": "8094cdc5-7815-4cc5-c7c8-5139687f75f3"
      },
      "execution_count": 31,
      "outputs": [
        {
          "output_type": "execute_result",
          "data": {
            "text/plain": [
              "<matplotlib.collections.PathCollection at 0x7ebf0dd61110>"
            ]
          },
          "metadata": {},
          "execution_count": 31
        },
        {
          "output_type": "display_data",
          "data": {
            "text/plain": [
              "<Figure size 640x480 with 1 Axes>"
            ],
            "image/png": "[encoded data removed]"
          },
          "metadata": {}
        }
      ]
    },
    {
      "cell_type": "code",
      "source": [],
      "metadata": {
        "id": "No3J-VVgKiy5"
      },
      "execution_count": null,
      "outputs": []
    }
  ]
}